{
  "cells": [
    {
      "metadata": {
        "collapsed": true
      },
      "cell_type": "markdown",
      "source": "# BL40A2010 Introduction to IoT-Based Systems\n\n## Assignment 6, DD.MM.2019\n\n### Author: Your Name"
    },
    {
      "metadata": {},
      "cell_type": "markdown",
      "source": "**(1) Consider the game whose payoff table is presented below. What is the relation between the payoffs values $x\\geq 0$, $y\\geq 0$, $w\\geq 0$ and $z \\geq 0$ so that the game can be classified as Prisoner's Dilemma?**\n\n|                | $B$ cooperates  | $B$ not-cooperating   |\n|----------------|:---------------:|--------------:|\n| $A$ cooperates |  $A \\rightarrow -x$   | $A\\rightarrow -w$  |\n|                |  $B\\rightarrow -x$   | $B\\rightarrow -y$  |\n|                |                 |               |\n| $A$ not-cooperating   |  $A\\rightarrow -y$   | $A\\rightarrow -z$  |\n|                |  $B\\rightarrow -w$   | $B\\rightarrow -z$  |\n\n\n**Verify the analytical results with numerical examples using [nashpy](https://nashpy.readthedocs.io/en/stable/index.html). Please provide one example when the inequality holds and one it does not (check my example for Dove and Hawyk game).**"
    },
    {
      "metadata": {
        "trusted": false
      },
      "cell_type": "code",
      "source": "",
      "execution_count": null,
      "outputs": []
    },
    {
      "metadata": {},
      "cell_type": "markdown",
      "source": "**(2) Justify why the game from the previous exercise is or is not a sound model when $A$ and $B$ are:**\n\n**1. Two trained members from the army when they are in prison.**\n\n\n**2. Competitive companies in the market discussing standardization.**\n\n\n**3. Two different autonomous IoT-based home energy management algorithms that are focus on energy efficiency.**\n\n\n**4. Two different autonomous IoT-based home energy management algorithms that are focus on profit maximization.**"
    },
    {
      "metadata": {},
      "cell_type": "markdown",
      "source": "Answer:"
    }
  ],
  "metadata": {
    "kernelspec": {
      "name": "python36",
      "display_name": "Python 3.6",
      "language": "python"
    },
    "language_info": {
      "mimetype": "text/x-python",
      "nbconvert_exporter": "python",
      "name": "python",
      "pygments_lexer": "ipython3",
      "version": "3.6.6",
      "file_extension": ".py",
      "codemirror_mode": {
        "version": 3,
        "name": "ipython"
      }
    }
  },
  "nbformat": 4,
  "nbformat_minor": 2
}