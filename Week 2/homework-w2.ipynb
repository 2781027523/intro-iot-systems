{
  "cells": [
    {
      "metadata": {
        "collapsed": true
      },
      "cell_type": "markdown",
      "source": "# BL40A2010 Introduction to IoT-Based Systems\n\n## Assignment 2, DD.MM.YYYY\n\n### Author:"
    },
    {
      "metadata": {},
      "cell_type": "markdown",
      "source": "**(1) Give one example of each of the following type of data.**"
    },
    {
      "metadata": {},
      "cell_type": "markdown",
      "source": "Answer:\n\n(a) Analog:\n\t\n(b) Digital:\n\n(c) Primary:\n\n(d) Secondary (i.e., lack of data that is informative):\n\n(e) Metadata:\n\n(f) Environmental:"
    },
    {
      "metadata": {},
      "cell_type": "markdown",
      "source": "**(2) Write one example when the same structured data can be classified as (a) information, (b) redundancy and (c) not interpretable.**"
    },
    {
      "metadata": {},
      "cell_type": "markdown",
      "source": "Answer:"
    },
    {
      "metadata": {},
      "cell_type": "markdown",
      "source": "**(3) Photo-voltaic generation converts the sun's radiation into usable electricity. In this task, you will get the *direct solar radiation* with 1 minute time interval from the *Radiation observations*  at [FMI](http://en.ilmatieteenlaitos.fi/download-observations#!/). Plot radiation profile of three different days so that one must be in March, other in July and the last in December (regardless of the year). What measuring station was used? Compare the solar radiation in those 3 days and provide *information* about the potential of solar generation in those days. You can also select the measuring station (but write it in the answer).**\n\n*Hint:* Code like in the tutorial notebook."
    },
    {
      "metadata": {
        "trusted": false
      },
      "cell_type": "code",
      "source": "",
      "execution_count": null,
      "outputs": []
    },
    {
      "metadata": {},
      "cell_type": "markdown",
      "source": "**(4) Read the text [What Does the Metaverse Mean for the Future of Energy Consumption?](https://earth.org/metaverse-energy-consumption/). Write a brief analysis of the text based on the relation between data, energy and level of processes. From the energy perspective, is it possible to maintain this kind of technologies? Note: This is clearly not a right/wrong question, but a space to critically think about current issues related to the course.**"
    },
    {
      "metadata": {},
      "cell_type": "markdown",
      "source": "Answer:"
    }
  ],
  "metadata": {
    "kernelspec": {
      "name": "python36",
      "display_name": "Python 3.6",
      "language": "python"
    },
    "language_info": {
      "mimetype": "text/x-python",
      "nbconvert_exporter": "python",
      "name": "python",
      "pygments_lexer": "ipython3",
      "version": "3.6.6",
      "file_extension": ".py",
      "codemirror_mode": {
        "version": 3,
        "name": "ipython"
      }
    }
  },
  "nbformat": 4,
  "nbformat_minor": 2
}
