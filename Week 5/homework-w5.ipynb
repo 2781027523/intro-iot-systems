{
  "cells": [
    {
      "metadata": {
        "collapsed": true
      },
      "cell_type": "markdown",
      "source": "# BL40A2010 Introduction to IoT-Based Systems\n\n## Assignment 5, DD.MM.2019\n\n### Author: AAAA"
    },
    {
      "metadata": {},
      "cell_type": "markdown",
      "source": "**(1) Create vectors with 10000 samples generated as [Binomial](https://en.wikipedia.org/wiki/Binomial_distribution) random variables via [Numpy](https://docs.scipy.org/doc/numpy/reference/generated/numpy.random.binomial.html). \nCreate two vectors related to Binomial random variables with $n=100$ and $n=10000$, and $p=0.3$.\nMake three histogram plots related to each vector comparing the results with the probability distribution funtion given by: \n$$\\mathrm{Prob}\\left[X = k \\right] = \\binom{n}{k}p^k(1-p)^{n-k},$$ where $k$ is the number of *successes* in $n$ trials. Remember to use this [scipy.stats.binom](https://docs.scipy.org/doc/scipy-0.14.0/reference/generated/scipy.stats.binom.html).**"
    },
    {
      "metadata": {
        "trusted": false
      },
      "cell_type": "code",
      "source": "",
      "execution_count": null,
      "outputs": []
    },
    {
      "metadata": {},
      "cell_type": "markdown",
      "source": "**(2) Read Section 2.3 and Chapter 3 from [Network Science](http://networksciencebook.com/) and generate three different kinds of Erdos-Renyi graphs with $N=15$ (fifteen nodes) using [NetworkX](https://networkx.github.io/documentation/networkx-1.10/reference/generated/networkx.generators.random_graphs.erdos_renyi_graph.html). \nThe networks shall be (a)  with probability $p=0.2$, (b) with probability $p=0.5$ and (c) with probability $p=0.8$.**"
    },
    {
      "metadata": {
        "trusted": false
      },
      "cell_type": "code",
      "source": "",
      "execution_count": null,
      "outputs": []
    }
  ],
  "metadata": {
    "kernelspec": {
      "name": "python36",
      "display_name": "Python 3.6",
      "language": "python"
    },
    "language_info": {
      "mimetype": "text/x-python",
      "nbconvert_exporter": "python",
      "name": "python",
      "pygments_lexer": "ipython3",
      "version": "3.6.6",
      "file_extension": ".py",
      "codemirror_mode": {
        "version": 3,
        "name": "ipython"
      }
    }
  },
  "nbformat": 4,
  "nbformat_minor": 2
}