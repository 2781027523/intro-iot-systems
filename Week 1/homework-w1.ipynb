{
  "cells": [
    {
      "metadata": {
        "collapsed": true
      },
      "cell_type": "markdown",
      "source": "# BL40A2010 Introduction to IoT-Based Systems\n\n## Assignment 1, DD.MM.2019\n\n### Author: Sir X Y"
    },
    {
      "metadata": {},
      "cell_type": "markdown",
      "source": "**(1) Analyze an electric heater as a system following Example 1.1.**"
    },
    {
      "metadata": {},
      "cell_type": "markdown",
      "source": "Answer: "
    },
    {
      "metadata": {},
      "cell_type": "markdown",
      "source": "**(2) Give one example for each scientific rationalities presented in Section 1.2.1 similar to Example 1.2.** "
    },
    {
      "metadata": {},
      "cell_type": "markdown",
      "source": "Answer: "
    },
    {
      "metadata": {},
      "cell_type": "markdown",
      "source": "**(3) Download the air temperature data of one year from [FMI](http://en.ilmatieteenlaitos.fi/download-observations#!/) at the city/region you currently live. Make four (arbitrary) time series plots for one year, one month, one week and one day.**\n\n*Hint:* Code like in the tutorial notebook."
    },
    {
      "metadata": {
        "trusted": false
      },
      "cell_type": "code",
      "source": "",
      "execution_count": null,
      "outputs": []
    },
    {
      "metadata": {},
      "cell_type": "markdown",
      "source": "**(4) Consider a house with an electric heater. How the electricity consumption of the heater would be affected by the air temperature? Is there a way to change this?**"
    },
    {
      "metadata": {},
      "cell_type": "markdown",
      "source": "Answer:"
    }
  ],
  "metadata": {
    "kernelspec": {
      "name": "python36",
      "display_name": "Python 3.6",
      "language": "python"
    },
    "language_info": {
      "mimetype": "text/x-python",
      "nbconvert_exporter": "python",
      "name": "python",
      "pygments_lexer": "ipython3",
      "version": "3.6.6",
      "file_extension": ".py",
      "codemirror_mode": {
        "version": 3,
        "name": "ipython"
      }
    }
  },
  "nbformat": 4,
  "nbformat_minor": 2
}